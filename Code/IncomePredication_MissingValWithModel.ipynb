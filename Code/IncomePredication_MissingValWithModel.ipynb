{
  "nbformat": 4,
  "nbformat_minor": 0,
  "metadata": {
    "colab": {
      "name": "IncomePredication_MissingValWithModel.ipynb",
      "provenance": [],
      "collapsed_sections": [],
      "toc_visible": true
    },
    "kernelspec": {
      "name": "python3",
      "display_name": "Python 3"
    }
  },
  "cells": [
    {
      "cell_type": "code",
      "metadata": {
        "id": "YqqSI4-js-9C",
        "colab_type": "code",
        "colab": {}
      },
      "source": [
        "import pandas as pd\n",
        "import numpy as np"
      ],
      "execution_count": 0,
      "outputs": []
    },
    {
      "cell_type": "markdown",
      "metadata": {
        "id": "RoQTAos7DBoQ",
        "colab_type": "text"
      },
      "source": [
        "# Data Exploration"
      ]
    },
    {
      "cell_type": "code",
      "metadata": {
        "id": "pJsYCtgF7Hu0",
        "colab_type": "code",
        "colab": {}
      },
      "source": [
        "columns = ['age','workclass','id','education','education_num','marital_status',\n",
        "           'occupation','relationship','race','sex','capital_gain','capital_loss','hours_per_week','native_country','Class']\n",
        "# Load the Training set (adult_data.data)\n",
        "train = pd.read_csv('adult_data.data', header=None, names=columns)"
      ],
      "execution_count": 0,
      "outputs": []
    },
    {
      "cell_type": "code",
      "metadata": {
        "id": "VtlDS4QbynAW",
        "colab_type": "code",
        "colab": {}
      },
      "source": [
        "# Load the Test set (adult_test.txt)\n",
        "test = pd.read_csv('adult_test.txt', header=None, names=columns, skiprows=1)"
      ],
      "execution_count": 0,
      "outputs": []
    },
    {
      "cell_type": "markdown",
      "metadata": {
        "colab_type": "text",
        "id": "m5Glwl_jEA0E"
      },
      "source": [
        "# Data Preprocessing"
      ]
    },
    {
      "cell_type": "markdown",
      "metadata": {
        "id": "fsyLUQ7zCqIK",
        "colab_type": "text"
      },
      "source": [
        "##Replacing '?' with 'unknown'"
      ]
    },
    {
      "cell_type": "code",
      "metadata": {
        "id": "0Mo9rOA0EKH3",
        "colab_type": "code",
        "colab": {}
      },
      "source": [
        "train.occupation = train.occupation.str.replace('?','unknown_occupation', regex=False)\n",
        "train.workclass = train.workclass.str.replace('?','unknown_workclass', regex=False)\n",
        "train.native_country = train.native_country.str.replace('?','unknown_country', regex=False)\n",
        "\n",
        "test.occupation = test.occupation.str.replace('?','unknown_occupation', regex=False)\n",
        "test.workclass = test.workclass.str.replace('?','unknown_workclass', regex=False)\n",
        "test.native_country = test.native_country.str.replace('?','unknown_country', regex=False)\n"
      ],
      "execution_count": 0,
      "outputs": []
    },
    {
      "cell_type": "code",
      "metadata": {
        "id": "W5J9dztpU9Pd",
        "colab_type": "code",
        "colab": {}
      },
      "source": [
        "train.Class = train.Class.str.replace('<=50K', '0',  regex=False)\n",
        "train.Class = train.Class.str.replace('>50K', '1', regex=False)\n",
        "train.Class = train.Class.astype(int)"
      ],
      "execution_count": 0,
      "outputs": []
    },
    {
      "cell_type": "markdown",
      "metadata": {
        "id": "F3nqvGaxY39g",
        "colab_type": "text"
      },
      "source": [
        "## Handling Missing Values"
      ]
    },
    {
      "cell_type": "markdown",
      "metadata": {
        "id": "RWtsT2Jh-T9P",
        "colab_type": "text"
      },
      "source": [
        "### Method 1 - Logistic Regression"
      ]
    },
    {
      "cell_type": "code",
      "metadata": {
        "id": "JlvHHMAKRGJr",
        "colab_type": "code",
        "colab": {}
      },
      "source": [
        "from sklearn.linear_model import LogisticRegression\n",
        "from sklearn.cluster import KMeans\n",
        "#HammingDistance\n",
        "def missingValuePrediction(col1, cat_cols, wc_unknown, wc_other, wc_other_Ytrain):\n",
        "  wc_other_Xtrain = wc_other[cat_cols]\n",
        "  wc_other_Xtrain = pd.get_dummies(wc_other_Xtrain)\n",
        "  wc_other_Xtrain = wc_other_Xtrain.join(wc_other[['age','education_num','capital_gain','capital_loss'\n",
        "                                                  ,'hours_per_week']])\n",
        "\n",
        "  #Test data\n",
        "  wc_unknown_Xtest = wc_unknown[cat_cols]\n",
        "  wc_unknown_Xtest = pd.get_dummies(wc_unknown_Xtest)\n",
        "  wc_unknown_Xtest = wc_unknown_Xtest.join(wc_unknown[['age','education_num','capital_gain','capital_loss'\n",
        "                                                  ,'hours_per_week']])\n",
        "\n",
        "  if(wc_unknown_Xtest.columns.contains('workclass_ Never-worked')):\n",
        "    wc_unknown_Xtest = wc_unknown_Xtest.drop(columns=['workclass_ Never-worked', 'workclass_ unknown_workclass'])  \n",
        "  if(wc_unknown_Xtest.columns.contains('native_country_ unknown_country')):\n",
        "    wc_unknown_Xtest = wc_unknown_Xtest.drop(columns=['native_country_ unknown_country'])\n",
        "    \n",
        "  wc_other_Xtrain = wc_other_Xtrain[wc_unknown_Xtest.columns]\n",
        "\n",
        "  clf = LogisticRegression().fit(wc_other_Xtrain, wc_other_Ytrain)\n",
        "\n",
        "  wc_pred = clf.predict(wc_unknown_Xtest)\n",
        "  \n",
        "  wc_unknown['pred'+col1] = wc_pred.astype(int).tolist()\n",
        "\n",
        "  return wc_unknown\n"
      ],
      "execution_count": 0,
      "outputs": []
    },
    {
      "cell_type": "markdown",
      "metadata": {
        "id": "2LS0SX7hOY_3",
        "colab_type": "text"
      },
      "source": [
        "#### Workclass"
      ]
    },
    {
      "cell_type": "code",
      "metadata": {
        "id": "cnw4SUl6zCrD",
        "colab_type": "code",
        "outputId": "b87cac99-12fe-4dad-fc9e-febea16f3738",
        "colab": {
          "base_uri": "https://localhost:8080/",
          "height": 328
        }
      },
      "source": [
        "# Test\n",
        "wc_unknown = train[train['workclass'].str.contains('unknown_workclass')]\n",
        "print('Unknown', wc_unknown.shape)\n",
        "# Train\n",
        "wc_other = train[~train['workclass'].str.contains('unknown_workclass')]\n",
        "print('Other', wc_other.shape)\n",
        "\n",
        "wc_other_Ytrain = wc_other['workclass']\n",
        "\n",
        "wc_other_Ytrain = wc_other_Ytrain.str.replace('Private', '1',  regex=False)\n",
        "wc_other_Ytrain = wc_other_Ytrain.str.replace('Self-emp-not-inc', '2',  regex=False)\n",
        "wc_other_Ytrain = wc_other_Ytrain.str.replace('Local-gov', '3',  regex=False)\n",
        "wc_other_Ytrain = wc_other_Ytrain.str.replace('State-gov', '4',  regex=False)\n",
        "wc_other_Ytrain = wc_other_Ytrain.str.replace('Self-emp-inc', '5',  regex=False)\n",
        "wc_other_Ytrain = wc_other_Ytrain.str.replace('Federal-gov', '6',  regex=False)\n",
        "wc_other_Ytrain = wc_other_Ytrain.str.replace('Without-pay', '7',  regex=False)\n",
        "wc_other_Ytrain = wc_other_Ytrain.str.replace('Never-worked', '8',  regex=False)\n",
        "\n",
        "wc_other_Ytrain = wc_other_Ytrain.astype(int)\n",
        "\n",
        "cols = ['marital_status','occupation','relationship','race','sex','native_country']\n",
        "df = missingValuePrediction('workclass', cols,\n",
        "                            wc_unknown, wc_other, wc_other_Ytrain)"
      ],
      "execution_count": 0,
      "outputs": [
        {
          "output_type": "stream",
          "text": [
            "Unknown (1836, 15)\n",
            "Other (30725, 15)\n"
          ],
          "name": "stdout"
        },
        {
          "output_type": "stream",
          "text": [
            "/usr/local/lib/python3.6/dist-packages/ipykernel_launcher.py:16: FutureWarning: The 'contains' method is deprecated and will be removed in a future version. Use 'key in index' instead of 'index.contains(key)'\n",
            "  app.launch_new_instance()\n",
            "/usr/local/lib/python3.6/dist-packages/sklearn/linear_model/_logistic.py:940: ConvergenceWarning: lbfgs failed to converge (status=1):\n",
            "STOP: TOTAL NO. of ITERATIONS REACHED LIMIT.\n",
            "\n",
            "Increase the number of iterations (max_iter) or scale the data as shown in:\n",
            "    https://scikit-learn.org/stable/modules/preprocessing.html\n",
            "Please also refer to the documentation for alternative solver options:\n",
            "    https://scikit-learn.org/stable/modules/linear_model.html#logistic-regression\n",
            "  extra_warning_msg=_LOGISTIC_SOLVER_CONVERGENCE_MSG)\n",
            "/usr/local/lib/python3.6/dist-packages/ipykernel_launcher.py:25: SettingWithCopyWarning: \n",
            "A value is trying to be set on a copy of a slice from a DataFrame.\n",
            "Try using .loc[row_indexer,col_indexer] = value instead\n",
            "\n",
            "See the caveats in the documentation: http://pandas.pydata.org/pandas-docs/stable/user_guide/indexing.html#returning-a-view-versus-a-copy\n"
          ],
          "name": "stderr"
        }
      ]
    },
    {
      "cell_type": "code",
      "metadata": {
        "id": "4F36IMtIHNjB",
        "colab_type": "code",
        "outputId": "e9d92f8c-7f5d-4756-95d9-9b0c7e22802e",
        "colab": {
          "base_uri": "https://localhost:8080/",
          "height": 68
        }
      },
      "source": [
        "df.predworkclass.value_counts()"
      ],
      "execution_count": 0,
      "outputs": [
        {
          "output_type": "execute_result",
          "data": {
            "text/plain": [
              "1    1835\n",
              "5       1\n",
              "Name: predworkclass, dtype: int64"
            ]
          },
          "metadata": {
            "tags": []
          },
          "execution_count": 56
        }
      ]
    },
    {
      "cell_type": "markdown",
      "metadata": {
        "id": "o4xLYeUu6U1M",
        "colab_type": "text"
      },
      "source": [
        "#### Occupation"
      ]
    },
    {
      "cell_type": "code",
      "metadata": {
        "id": "xcZhIcYQ3Z6_",
        "colab_type": "code",
        "colab": {}
      },
      "source": [
        "# Test\n",
        "wc_unknown = train[train['occupation'].str.contains('unknown_occupation')]\n",
        "print('Unknown', wc_unknown.shape)\n",
        "# Train\n",
        "wc_other = train[~train['occupation'].str.contains('unknown_occupation')]\n",
        "print('Other', wc_other.shape)\n",
        "\n",
        "wc_other_Ytrain = wc_other['occupation']\n",
        "\n",
        "wc_other_Ytrain = wc_other_Ytrain.str.replace('Prof-specialty', '1',  regex=False)\n",
        "wc_other_Ytrain = wc_other_Ytrain.str.replace('Craft-repair', '2',  regex=False)\n",
        "wc_other_Ytrain = wc_other_Ytrain.str.replace('Exec-managerial', '3',  regex=False)\n",
        "wc_other_Ytrain = wc_other_Ytrain.str.replace('Adm-clerical', '4',  regex=False)\n",
        "wc_other_Ytrain = wc_other_Ytrain.str.replace('Sales', '5',  regex=False)\n",
        "wc_other_Ytrain = wc_other_Ytrain.str.replace('Other-service', '6',  regex=False)\n",
        "wc_other_Ytrain = wc_other_Ytrain.str.replace('Machine-op-inspct', '7',  regex=False)\n",
        "wc_other_Ytrain = wc_other_Ytrain.str.replace('Transport-moving', '8',  regex=False)\n",
        "wc_other_Ytrain = wc_other_Ytrain.str.replace('Handlers-cleaners', '9',  regex=False)\n",
        "wc_other_Ytrain = wc_other_Ytrain.str.replace('Farming-fishing', '10',  regex=False)\n",
        "wc_other_Ytrain = wc_other_Ytrain.str.replace('Tech-support', '11',  regex=False)\n",
        "wc_other_Ytrain = wc_other_Ytrain.str.replace('Protective-serv', '12',  regex=False)\n",
        "wc_other_Ytrain = wc_other_Ytrain.str.replace('Priv-house-serv', '13',  regex=False)\n",
        "wc_other_Ytrain = wc_other_Ytrain.str.replace('Armed-Forces', '14',  regex=False)\n",
        "\n",
        "wc_other_Ytrain = wc_other_Ytrain.astype(int)\n",
        "\n",
        "cols = ['marital_status','workclass','relationship','race','sex','native_country']\n",
        "df = missingValuePrediction('occupation', cols,\n",
        "                            wc_unknown, wc_other, wc_other_Ytrain)"
      ],
      "execution_count": 0,
      "outputs": []
    },
    {
      "cell_type": "code",
      "metadata": {
        "id": "Khfe_7amAb4w",
        "colab_type": "code",
        "outputId": "8e94bad5-afff-4b50-c209-7e8b6e19502b",
        "colab": {
          "base_uri": "https://localhost:8080/",
          "height": 103
        }
      },
      "source": [
        "df.predoccupation.value_counts()"
      ],
      "execution_count": 0,
      "outputs": [
        {
          "output_type": "execute_result",
          "data": {
            "text/plain": [
              "2    1054\n",
              "3     748\n",
              "5      34\n",
              "1       7\n",
              "Name: predoccupation, dtype: int64"
            ]
          },
          "metadata": {
            "tags": []
          },
          "execution_count": 64
        }
      ]
    },
    {
      "cell_type": "markdown",
      "metadata": {
        "id": "-KiLKT3HCzsN",
        "colab_type": "text"
      },
      "source": [
        "#### Native Country"
      ]
    },
    {
      "cell_type": "code",
      "metadata": {
        "id": "WzSkgF6IF_d-",
        "colab_type": "code",
        "colab": {}
      },
      "source": [
        "country_list ={\" United-States\" :1,\" Mexico\":2, \" Philippines\":3, \" Germany\":4, \" Canada\":5, \" Puerto-Rico\":6,  \n",
        "       \" El-Salvador\":7, \" India\":8, \" Cuba\":9,\" England\":10,\" Jamaica\":11,\" South\":12, \" China\":13, \n",
        "       \" Italy\":14,\" Dominican-Republic\":15, \" Vietnam\":16,\" Guatemala\":17,\" Japan\":18,\" Poland\":19,\n",
        "       \" Columbia\":20,\" Taiwan\":21, \" Haiti\":22, \" Iran\":23,\" Portugal\":24,\" Nicaragua\":25,\n",
        "       \" Peru\":26, \" Greece\":27,\" France\":28, \" Ecuador\":29, \" Ireland\":30, \" Hong\":31, \n",
        "       \" Cambodia\":32,\" Trinadad&Tobago\":33, \" Laos\":34, \" Thailand\":35,\" Yugoslavia\":36, \n",
        "       \" Outlying-US(Guam-USVI-etc)\":37, \" Hungary\":38, \" Honduras\":39,\" Scotland\":40,  \n",
        "       \" Holand-Netherlands\":41}"
      ],
      "execution_count": 0,
      "outputs": []
    },
    {
      "cell_type": "code",
      "metadata": {
        "id": "1vYowd1_C129",
        "colab_type": "code",
        "outputId": "d5b212f4-4cf3-48e0-e1f5-6cdc4198c902",
        "colab": {
          "base_uri": "https://localhost:8080/",
          "height": 431
        }
      },
      "source": [
        "# Test\n",
        "wc_unknown = train[train['native_country'].str.contains('unknown_country')]\n",
        "print('Unknown', wc_unknown.shape)\n",
        "# Train\n",
        "wc_other = train[~train['native_country'].str.contains('unknown_country')]\n",
        "print('Other', wc_other.shape)\n",
        "\n",
        "wc_other_Ytrain = wc_other['native_country']\n",
        "\n",
        "wc_other_Ytrain.replace(country_list, inplace=True)\n",
        "\n",
        "wc_other_Ytrain = wc_other_Ytrain.astype(int)\n",
        "\n",
        "cols = ['marital_status','workclass','relationship','race','sex','occupation']\n",
        "df = missingValuePrediction('native_country', cols,\n",
        "                            wc_unknown, wc_other, wc_other_Ytrain)"
      ],
      "execution_count": 0,
      "outputs": [
        {
          "output_type": "stream",
          "text": [
            "Unknown (583, 15)\n",
            "Other (31978, 15)\n"
          ],
          "name": "stdout"
        },
        {
          "output_type": "stream",
          "text": [
            "/usr/local/lib/python3.6/dist-packages/pandas/core/generic.py:6786: SettingWithCopyWarning: \n",
            "A value is trying to be set on a copy of a slice from a DataFrame\n",
            "\n",
            "See the caveats in the documentation: http://pandas.pydata.org/pandas-docs/stable/user_guide/indexing.html#returning-a-view-versus-a-copy\n",
            "  self._update_inplace(new_data)\n",
            "/usr/local/lib/python3.6/dist-packages/ipykernel_launcher.py:16: FutureWarning: The 'contains' method is deprecated and will be removed in a future version. Use 'key in index' instead of 'index.contains(key)'\n",
            "  app.launch_new_instance()\n",
            "/usr/local/lib/python3.6/dist-packages/ipykernel_launcher.py:18: FutureWarning: The 'contains' method is deprecated and will be removed in a future version. Use 'key in index' instead of 'index.contains(key)'\n",
            "/usr/local/lib/python3.6/dist-packages/sklearn/linear_model/_logistic.py:940: ConvergenceWarning: lbfgs failed to converge (status=1):\n",
            "STOP: TOTAL NO. of ITERATIONS REACHED LIMIT.\n",
            "\n",
            "Increase the number of iterations (max_iter) or scale the data as shown in:\n",
            "    https://scikit-learn.org/stable/modules/preprocessing.html\n",
            "Please also refer to the documentation for alternative solver options:\n",
            "    https://scikit-learn.org/stable/modules/linear_model.html#logistic-regression\n",
            "  extra_warning_msg=_LOGISTIC_SOLVER_CONVERGENCE_MSG)\n",
            "/usr/local/lib/python3.6/dist-packages/ipykernel_launcher.py:27: SettingWithCopyWarning: \n",
            "A value is trying to be set on a copy of a slice from a DataFrame.\n",
            "Try using .loc[row_indexer,col_indexer] = value instead\n",
            "\n",
            "See the caveats in the documentation: http://pandas.pydata.org/pandas-docs/stable/user_guide/indexing.html#returning-a-view-versus-a-copy\n"
          ],
          "name": "stderr"
        }
      ]
    },
    {
      "cell_type": "code",
      "metadata": {
        "id": "rukkzkRkL1sU",
        "colab_type": "code",
        "outputId": "c7e1edc3-3508-4dd7-8e06-07199561d46d",
        "colab": {
          "base_uri": "https://localhost:8080/",
          "height": 51
        }
      },
      "source": [
        "df.prednative_country.value_counts()"
      ],
      "execution_count": 0,
      "outputs": [
        {
          "output_type": "execute_result",
          "data": {
            "text/plain": [
              "1    583\n",
              "Name: prednative_country, dtype: int64"
            ]
          },
          "metadata": {
            "tags": []
          },
          "execution_count": 82
        }
      ]
    }
  ]
}